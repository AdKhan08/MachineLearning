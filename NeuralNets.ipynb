{
 "cells": [
  {
   "cell_type": "code",
   "execution_count": 2,
   "id": "7e19ff90-f51d-464d-9db9-7e33ebf9e261",
   "metadata": {},
   "outputs": [
    {
     "name": "stdout",
     "output_type": "stream",
     "text": [
      "Using device: cpu\n"
     ]
    }
   ],
   "source": [
    "############################################\n",
    "# Step 0: Imports and Device Configuration #\n",
    "############################################\n",
    "\n",
    "import torch\n",
    "import torch.nn as nn\n",
    "import torch.optim as optim\n",
    "from torch.utils.data import Dataset, DataLoader\n",
    "import torch.nn.functional as F\n",
    "\n",
    "import numpy as np\n",
    "import matplotlib.pyplot as plt\n",
    "%matplotlib inline\n",
    "\n",
    "from sklearn.datasets import load_wine\n",
    "from sklearn.model_selection import train_test_split\n",
    "from sklearn.preprocessing import StandardScaler\n",
    "\n",
    "# Check device (GPU if available)\n",
    "device = torch.device(\"cuda\" if torch.cuda.is_available() else \"cpu\")\n",
    "print(\"Using device:\", device)\n"
   ]
  },
  {
   "cell_type": "code",
   "execution_count": 3,
   "id": "f9d87c54-251d-49a7-b0c0-599598c09e3a",
   "metadata": {},
   "outputs": [
    {
     "name": "stdout",
     "output_type": "stream",
     "text": [
      "Train set size: (142, 13)\n",
      "Test set size: (36, 13)\n"
     ]
    }
   ],
   "source": [
    "######################################\n",
    "# Step 1: Load and Prepare the Data  #\n",
    "######################################\n",
    "\n",
    "# Load wine dataset from sklearn\n",
    "wine_data = load_wine()\n",
    "X = wine_data.data        # shape: (178, 13)\n",
    "y = wine_data.target      # 3 classes: 0, 1, or 2\n",
    "\n",
    "# Split into train/test sets\n",
    "X_train, X_test, y_train, y_test = train_test_split(\n",
    "    X, y, test_size=0.2, random_state=42\n",
    ")\n",
    "\n",
    "# Scale/standardize the features (mean=0, std=1)\n",
    "scaler = StandardScaler()\n",
    "X_train = scaler.fit_transform(X_train)\n",
    "X_test = scaler.transform(X_test)\n",
    "\n",
    "print(\"Train set size:\", X_train.shape)\n",
    "print(\"Test set size:\", X_test.shape)\n"
   ]
  },
  {
   "cell_type": "code",
   "execution_count": 4,
   "id": "97f42dd9-7ca6-4739-8728-aac5d1f79ac0",
   "metadata": {},
   "outputs": [
    {
     "name": "stdout",
     "output_type": "stream",
     "text": [
      "Number of train batches: 9\n",
      "Number of test batches: 3\n"
     ]
    }
   ],
   "source": [
    "#######################################################\n",
    "# Step 2: Create a Custom PyTorch Dataset and DataLoader\n",
    "#######################################################\n",
    "\n",
    "class WineDataset(Dataset):\n",
    "    def __init__(self, X, y):\n",
    "        self.X = X.astype(np.float32)  # Convert to float32\n",
    "        self.y = y.astype(np.int64)    # Class labels as int64 (required by PyTorch)\n",
    "\n",
    "    def __len__(self):\n",
    "        return len(self.X)\n",
    "\n",
    "    def __getitem__(self, idx):\n",
    "        # Return a tuple of (features, label)\n",
    "        features = self.X[idx]\n",
    "        label = self.y[idx]\n",
    "        return features, label\n",
    "\n",
    "# Create Dataset instances\n",
    "train_dataset = WineDataset(X_train, y_train)\n",
    "test_dataset = WineDataset(X_test, y_test)\n",
    "\n",
    "# Wrap with DataLoader\n",
    "batch_size = 16\n",
    "train_loader = DataLoader(train_dataset, batch_size=batch_size, shuffle=True)\n",
    "test_loader = DataLoader(test_dataset, batch_size=batch_size, shuffle=False)\n",
    "\n",
    "print(\"Number of train batches:\", len(train_loader))\n",
    "print(\"Number of test batches:\", len(test_loader))\n"
   ]
  },
  {
   "cell_type": "code",
   "execution_count": 5,
   "id": "58e7fe96-b419-4676-bdce-44b1df2d458e",
   "metadata": {},
   "outputs": [
    {
     "name": "stdout",
     "output_type": "stream",
     "text": [
      "WineNet(\n",
      "  (fc1): Linear(in_features=13, out_features=32, bias=True)\n",
      "  (fc2): Linear(in_features=32, out_features=32, bias=True)\n",
      "  (fc3): Linear(in_features=32, out_features=3, bias=True)\n",
      "  (dropout): Dropout(p=0.2, inplace=False)\n",
      ")\n"
     ]
    }
   ],
   "source": [
    "###################################\n",
    "# Step 3: Define the Neural Network\n",
    "###################################\n",
    "\n",
    "class WineNet(nn.Module):\n",
    "    def __init__(self, input_dim=13, hidden_dim=32, num_classes=3):\n",
    "        super(WineNet, self).__init__()\n",
    "        self.fc1 = nn.Linear(input_dim, hidden_dim)\n",
    "        self.fc2 = nn.Linear(hidden_dim, hidden_dim)\n",
    "        self.fc3 = nn.Linear(hidden_dim, num_classes)\n",
    "\n",
    "        # Optional: We'll include Dropout for regularization\n",
    "        self.dropout = nn.Dropout(p=0.2)\n",
    "\n",
    "    def forward(self, x):\n",
    "        # x shape: (batch_size, 13)\n",
    "        x = F.relu(self.fc1(x))\n",
    "        x = self.dropout(x)        # apply dropout\n",
    "        x = F.relu(self.fc2(x))\n",
    "        x = self.dropout(x)\n",
    "        x = self.fc3(x)           # raw logits\n",
    "        return x\n",
    "\n",
    "# Instantiate the model and move it to device\n",
    "model = WineNet().to(device)\n",
    "print(model)\n"
   ]
  },
  {
   "cell_type": "code",
   "execution_count": 6,
   "id": "ff049eed-b712-4192-b1b1-2d2c22bfcf26",
   "metadata": {},
   "outputs": [],
   "source": [
    "############################################\n",
    "# Step 4: Set Up Loss Function and Optimizer\n",
    "############################################\n",
    "\n",
    "# We'll use CrossEntropyLoss for multi-class classification\n",
    "criterion = nn.CrossEntropyLoss()\n",
    "\n",
    "# Choose an optimizer (Adam) and include L2 regularization (weight_decay) as another form of regularization\n",
    "optimizer = optim.Adam(model.parameters(), lr=0.01, weight_decay=1e-4)\n"
   ]
  },
  {
   "cell_type": "code",
   "execution_count": 7,
   "id": "9a2d3ed2-a050-4e1b-be7a-6d54a0158054",
   "metadata": {},
   "outputs": [
    {
     "name": "stdout",
     "output_type": "stream",
     "text": [
      "Epoch [1/30], Loss: 0.8850, Accuracy: 66.20%\n",
      "Epoch [2/30], Loss: 0.3518, Accuracy: 94.37%\n",
      "Epoch [3/30], Loss: 0.1099, Accuracy: 97.18%\n",
      "Epoch [4/30], Loss: 0.0854, Accuracy: 97.18%\n",
      "Epoch [5/30], Loss: 0.0865, Accuracy: 97.18%\n",
      "Epoch [6/30], Loss: 0.0246, Accuracy: 98.59%\n",
      "Epoch [7/30], Loss: 0.0414, Accuracy: 98.59%\n",
      "Epoch [8/30], Loss: 0.0108, Accuracy: 100.00%\n",
      "Epoch [9/30], Loss: 0.0093, Accuracy: 100.00%\n",
      "Epoch [10/30], Loss: 0.0075, Accuracy: 100.00%\n",
      "Epoch [11/30], Loss: 0.0265, Accuracy: 98.59%\n",
      "Epoch [12/30], Loss: 0.0060, Accuracy: 100.00%\n",
      "Epoch [13/30], Loss: 0.0172, Accuracy: 99.30%\n",
      "Epoch [14/30], Loss: 0.0108, Accuracy: 100.00%\n",
      "Epoch [15/30], Loss: 0.0209, Accuracy: 99.30%\n",
      "Epoch [16/30], Loss: 0.0183, Accuracy: 99.30%\n",
      "Epoch [17/30], Loss: 0.0128, Accuracy: 99.30%\n",
      "Epoch [18/30], Loss: 0.0045, Accuracy: 100.00%\n",
      "Epoch [19/30], Loss: 0.0028, Accuracy: 100.00%\n",
      "Epoch [20/30], Loss: 0.0098, Accuracy: 100.00%\n",
      "Epoch [21/30], Loss: 0.0150, Accuracy: 99.30%\n",
      "Epoch [22/30], Loss: 0.0035, Accuracy: 100.00%\n",
      "Epoch [23/30], Loss: 0.0108, Accuracy: 100.00%\n",
      "Epoch [24/30], Loss: 0.0142, Accuracy: 99.30%\n",
      "Epoch [25/30], Loss: 0.0092, Accuracy: 99.30%\n",
      "Epoch [26/30], Loss: 0.0006, Accuracy: 100.00%\n",
      "Epoch [27/30], Loss: 0.0013, Accuracy: 100.00%\n",
      "Epoch [28/30], Loss: 0.0008, Accuracy: 100.00%\n",
      "Epoch [29/30], Loss: 0.0002, Accuracy: 100.00%\n",
      "Epoch [30/30], Loss: 0.0003, Accuracy: 100.00%\n"
     ]
    }
   ],
   "source": [
    "#################################\n",
    "# Step 5: Training the Model\n",
    "#################################\n",
    "\n",
    "num_epochs = 30\n",
    "train_losses = []\n",
    "train_accuracies = []\n",
    "\n",
    "for epoch in range(num_epochs):\n",
    "    model.train()\n",
    "    running_loss = 0.0\n",
    "    correct = 0\n",
    "    total = 0\n",
    "\n",
    "    for features, labels in train_loader:\n",
    "        # Move to device\n",
    "        features, labels = features.to(device), labels.to(device)\n",
    "\n",
    "        # 1) Forward pass\n",
    "        outputs = model(features)\n",
    "        loss = criterion(outputs, labels)\n",
    "\n",
    "        # 2) Backprop\n",
    "        optimizer.zero_grad()\n",
    "        loss.backward()\n",
    "        optimizer.step()\n",
    "\n",
    "        # Statistics\n",
    "        running_loss += loss.item() * features.size(0)\n",
    "\n",
    "        # Calculate predictions\n",
    "        _, predicted = torch.max(outputs, 1)\n",
    "        correct += (predicted == labels).sum().item()\n",
    "        total += labels.size(0)\n",
    "\n",
    "    epoch_loss = running_loss / total\n",
    "    epoch_acc = 100.0 * correct / total\n",
    "    train_losses.append(epoch_loss)\n",
    "    train_accuracies.append(epoch_acc)\n",
    "\n",
    "    print(f\"Epoch [{epoch+1}/{num_epochs}], Loss: {epoch_loss:.4f}, Accuracy: {epoch_acc:.2f}%\")\n"
   ]
  },
  {
   "cell_type": "code",
   "execution_count": 8,
   "id": "c1b19069-1ce0-4166-a31d-2d1dce9fd6c0",
   "metadata": {},
   "outputs": [
    {
     "data": {
      "image/png": "[encoded data removed]",
      "text/plain": [
       "<Figure size 1200x400 with 2 Axes>"
      ]
     },
     "metadata": {},
     "output_type": "display_data"
    }
   ],
   "source": [
    "########################################\n",
    "# Step 6: Visualize Training Progress\n",
    "########################################\n",
    "\n",
    "plt.figure(figsize=(12,4))\n",
    "\n",
    "# Plot training loss\n",
    "plt.subplot(1,2,1)\n",
    "plt.plot(train_losses, '-o', label='Train Loss')\n",
    "plt.xlabel('Epoch')\n",
    "plt.ylabel('Loss')\n",
    "plt.title('Training Loss')\n",
    "plt.legend()\n",
    "\n",
    "# Plot training accuracy\n",
    "plt.subplot(1,2,2)\n",
    "plt.plot(train_accuracies, '-o', label='Train Accuracy')\n",
    "plt.xlabel('Epoch')\n",
    "plt.ylabel('Accuracy (%)')\n",
    "plt.title('Training Accuracy')\n",
    "plt.legend()\n",
    "\n",
    "plt.tight_layout()\n",
    "plt.show()\n"
   ]
  },
  {
   "cell_type": "code",
   "execution_count": 9,
   "id": "8669bd69-28a2-43d1-897e-66ae5c466bd0",
   "metadata": {},
   "outputs": [
    {
     "name": "stdout",
     "output_type": "stream",
     "text": [
      "Test Loss: 0.0000, Test Accuracy: 100.00%\n"
     ]
    }
   ],
   "source": [
    "#######################################\n",
    "# Step 7: Evaluate the Model on Test Data\n",
    "#######################################\n",
    "\n",
    "model.eval()  # evaluation mode\n",
    "test_correct = 0\n",
    "test_total = 0\n",
    "test_loss = 0.0\n",
    "\n",
    "with torch.no_grad():  # no need to compute gradients\n",
    "    for features, labels in test_loader:\n",
    "        features, labels = features.to(device), labels.to(device)\n",
    "        outputs = model(features)\n",
    "        loss = criterion(outputs, labels)\n",
    "        test_loss += loss.item() * features.size(0)\n",
    "\n",
    "        # Predictions\n",
    "        _, predicted = torch.max(outputs, 1)\n",
    "        test_correct += (predicted == labels).sum().item()\n",
    "        test_total += labels.size(0)\n",
    "\n",
    "avg_test_loss = test_loss / test_total\n",
    "test_accuracy = 100.0 * test_correct / test_total\n",
    "\n",
    "print(f\"Test Loss: {avg_test_loss:.4f}, Test Accuracy: {test_accuracy:.2f}%\")\n"
   ]
  },
  {
   "cell_type": "code",
   "execution_count": 10,
   "id": "318e561f-7f7b-4bdc-befc-14e89d3e251a",
   "metadata": {},
   "outputs": [
    {
     "name": "stdout",
     "output_type": "stream",
     "text": [
      "Predicted classes: [0 0 2 0 1]\n",
      "Actual classes:    [0 0 2 0 1]\n"
     ]
    }
   ],
   "source": [
    "#########################################\n",
    "# Step 8: Example Inference on New Data\n",
    "#########################################\n",
    "\n",
    "# Suppose we take the first 5 items from the test set as \"new\" data\n",
    "model.eval()\n",
    "with torch.no_grad():\n",
    "    sample_features = torch.tensor(X_test[:5], dtype=torch.float32).to(device)\n",
    "    outputs = model(sample_features)\n",
    "    _, preds = torch.max(outputs, 1)\n",
    "\n",
    "print(\"Predicted classes:\", preds.cpu().numpy())\n",
    "print(\"Actual classes:   \", y_test[:5])\n"
   ]
  }
 ],
 "metadata": {
  "kernelspec": {
   "display_name": "Python 3 (ipykernel)",
   "language": "python",
   "name": "python3"
  },
  "language_info": {
   "codemirror_mode": {
    "name": "ipython",
    "version": 3
   },
   "file_extension": ".py",
   "mimetype": "text/x-python",
   "name": "python",
   "nbconvert_exporter": "python",
   "pygments_lexer": "ipython3",
   "version": "3.12.7"
  }
 },
 "nbformat": 4,
 "nbformat_minor": 5
}
