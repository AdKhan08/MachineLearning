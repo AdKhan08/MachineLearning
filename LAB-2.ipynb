{
 "cells": [
  {
   "cell_type": "code",
   "execution_count": 1,
   "id": "7c311e1c-e20f-44c0-a9bc-ae332335d57b",
   "metadata": {},
   "outputs": [
    {
     "name": "stdout",
     "output_type": "stream",
     "text": [
      "Your ML environment is ready!\n"
     ]
    }
   ],
   "source": [
    "print(\"Your ML environment is ready!\")\n",
    "\n"
   ]
  },
  {
   "cell_type": "code",
   "execution_count": 3,
   "id": "180f2747-0a01-4366-a40e-273435f9af93",
   "metadata": {},
   "outputs": [
    {
     "name": "stdout",
     "output_type": "stream",
     "text": [
      "After append: ['apple', 'banana', 'cherry', 'date', 'elderberry']\n",
      "After insert: ['apple', 'banana', 'blueberry', 'cherry', 'date', 'elderberry']\n",
      "After remove: ['apple', 'blueberry', 'cherry', 'date', 'elderberry']\n",
      "Sorted fruits: ['apple', 'blueberry', 'cherry', 'date', 'elderberry']\n",
      "First three fruits: ['apple', 'blueberry', 'cherry']\n",
      "Squares: [1, 4, 9, 16, 25]\n"
     ]
    }
   ],
   "source": [
    "# Create a list of fruits\n",
    "fruits = [\"apple\", \"banana\", \"cherry\", \"date\"]\n",
    "\n",
    "# Append a new fruit\n",
    "fruits.append(\"elderberry\")\n",
    "print(\"After append:\", fruits)\n",
    "\n",
    "# Insert a fruit at index 2\n",
    "fruits.insert(2, \"blueberry\")\n",
    "print(\"After insert:\", fruits)\n",
    "\n",
    "# Remove a fruit\n",
    "fruits.remove(\"banana\")\n",
    "print(\"After remove:\", fruits)\n",
    "\n",
    "# Sort the list\n",
    "fruits.sort()\n",
    "print(\"Sorted fruits:\", fruits)\n",
    "\n",
    "# List slicing\n",
    "print(\"First three fruits:\", fruits[:3])\n",
    "\n",
    "# List comprehension to generate squares\n",
    "numbers = [1, 2, 3, 4, 5]\n",
    "squares = [n**2 for n in numbers]\n",
    "print(\"Squares:\", squares)\n",
    "\n"
   ]
  },
  {
   "cell_type": "code",
   "execution_count": 5,
   "id": "2155635e-5ec0-484a-aa9e-3855de0a731f",
   "metadata": {},
   "outputs": [
    {
     "name": "stdout",
     "output_type": "stream",
     "text": [
      "Price of apple: 100\n",
      "All fruits and prices: dict_items([('apple', 100), ('banana', 30), ('cherry', 200)])\n",
      "After adding date: {'apple': 100, 'banana': 30, 'cherry': 200, 'date': 150}\n",
      "After removing banana: {'apple': 100, 'cherry': 200, 'date': 150}\n"
     ]
    }
   ],
   "source": [
    "# Create a dictionary of fruits and their prices\n",
    "fruits = {\"apple\": 100, \"banana\": 30, \"cherry\": 200}\n",
    "\n",
    "# Accessing items\n",
    "print(\"Price of apple:\", fruits[\"apple\"])\n",
    "\n",
    "# Get all items\n",
    "print(\"All fruits and prices:\", fruits.items())\n",
    "\n",
    "# Add a new fruit\n",
    "fruits[\"date\"] = 150\n",
    "print(\"After adding date:\", fruits)\n",
    "\n",
    "# Remove a fruit\n",
    "del fruits[\"banana\"]\n",
    "print(\"After removing banana:\", fruits)\n"
   ]
  },
  {
   "cell_type": "code",
   "execution_count": 7,
   "id": "4c6c18ea-8274-4ddb-98bf-8eeacf16acd4",
   "metadata": {},
   "outputs": [
    {
     "name": "stdout",
     "output_type": "stream",
     "text": [
      "Array: [1 2 3 4 5]\n",
      "Array multiplied by 2: [ 2  4  6  8 10]\n",
      "Sum of array elements: 15\n"
     ]
    }
   ],
   "source": [
    "import numpy as np\n",
    "\n",
    "# Create a NumPy array\n",
    "arr = np.array([1, 2, 3, 4, 5])\n",
    "print(\"Array:\", arr)\n",
    "\n",
    "# Basic operations\n",
    "print(\"Array multiplied by 2:\", arr * 2)\n",
    "print(\"Sum of array elements:\", arr.sum())\n"
   ]
  },
  {
   "cell_type": "code",
   "execution_count": 9,
   "id": "4cbb6a06-e9f3-4927-a881-c5e89b595507",
   "metadata": {},
   "outputs": [
    {
     "name": "stdout",
     "output_type": "stream",
     "text": [
      "DataFrame:\n",
      "      Name  Age  Score\n",
      "0    Alice   25     85\n",
      "1      Bob   30     90\n",
      "2  Charlie   35     95\n",
      "Names: 0      Alice\n",
      "1        Bob\n",
      "2    Charlie\n",
      "Name: Name, dtype: object\n"
     ]
    }
   ],
   "source": [
    "import pandas as pd\n",
    "\n",
    "# Create a DataFrame from a dictionary\n",
    "data = {\"Name\": [\"Alice\", \"Bob\", \"Charlie\"],\n",
    "        \"Age\": [25, 30, 35],\n",
    "        \"Score\": [85, 90, 95]}\n",
    "\n",
    "df = pd.DataFrame(data)\n",
    "print(\"DataFrame:\")\n",
    "print(df)\n",
    "\n",
    "# Accessing a column\n",
    "print(\"Names:\", df[\"Name\"])\n"
   ]
  },
  {
   "cell_type": "code",
   "execution_count": 13,
   "id": "9d503805-6841-4fdc-930f-dadee818570d",
   "metadata": {},
   "outputs": [
    {
     "data": {
      "image/png": "[encoded data removed]",
      "text/plain": [
       "<Figure size 640x480 with 1 Axes>"
      ]
     },
     "metadata": {},
     "output_type": "display_data"
    }
   ],
   "source": [
    "import matplotlib.pyplot as plt\n",
    "\n",
    "# Sample data\n",
    "x = [1, 2, 3, 4, 5]\n",
    "y = [2, 4, 6, 8, 10]\n",
    "\n",
    "# Plot the data\n",
    "plt.plot(x, y, marker='o')\n",
    "plt.title(\"Boom Bash Plot\")\n",
    "plt.xlabel(\"boom\")\n",
    "plt.ylabel(\"bash\")\n",
    "plt.grid(True)\n",
    "plt.show()\n"
   ]
  },
  {
   "cell_type": "code",
   "execution_count": 15,
   "id": "187b963e-4856-4ad9-9bf3-16eafa1a281e",
   "metadata": {},
   "outputs": [],
   "source": [
    "# Import the LinearRegression model from scikit-learn\n",
    "from sklearn.linear_model import LinearRegression\n",
    "\n",
    "# Import NumPy for handling numerical arrays\n",
    "import numpy as np\n"
   ]
  },
  {
   "cell_type": "code",
   "execution_count": 17,
   "id": "77735c42-b592-41c0-955d-ba30cc160dad",
   "metadata": {},
   "outputs": [
    {
     "name": "stdout",
     "output_type": "stream",
     "text": [
      "Input Features (X):\n",
      "[[1]\n",
      " [2]\n",
      " [3]\n",
      " [4]\n",
      " [5]]\n",
      "\n",
      "Output Values (y):\n",
      "[ 2  4  6  8 10]\n"
     ]
    }
   ],
   "source": [
    "# Input features (2D array)\n",
    "X = np.array([[1], [2], [3], [4], [5]])\n",
    "\n",
    "# Output values (1D array)\n",
    "y = np.array([2, 4, 6, 8, 10])\n",
    "\n",
    "# Print the dataset to verify\n",
    "print(\"Input Features (X):\")\n",
    "print(X)\n",
    "print(\"\\nOutput Values (y):\")\n",
    "print(y)\n"
   ]
  },
  {
   "cell_type": "code",
   "execution_count": 19,
   "id": "622a2b18-d990-40f0-a9ed-91633d09c787",
   "metadata": {},
   "outputs": [
    {
     "name": "stdout",
     "output_type": "stream",
     "text": [
      "Model training complete.\n"
     ]
    }
   ],
   "source": [
    "# Create the linear regression model\n",
    "model = LinearRegression()\n",
    "\n",
    "# Train the model with the dataset\n",
    "model.fit(X, y)\n",
    "\n",
    "print(\"Model training complete.\")\n"
   ]
  },
  {
   "cell_type": "code",
   "execution_count": 21,
   "id": "d2ea55bb-0422-4f77-8803-cdd7dc23ef55",
   "metadata": {},
   "outputs": [
    {
     "name": "stdout",
     "output_type": "stream",
     "text": [
      "Prediction for input 6: 12.000000000000002\n"
     ]
    }
   ],
   "source": [
    "# Predict the output for a new input value\n",
    "new_input = np.array([[6]])\n",
    "prediction = model.predict(new_input)\n",
    "\n",
    "print(f\"Prediction for input {new_input[0][0]}: {prediction[0]}\")\n"
   ]
  },
  {
   "cell_type": "code",
   "execution_count": null,
   "id": "be3d443c-c255-4d63-beea-e9f2d96f1019",
   "metadata": {},
   "outputs": [],
   "source": []
  }
 ],
 "metadata": {
  "kernelspec": {
   "display_name": "Python 3 (ipykernel)",
   "language": "python",
   "name": "python3"
  },
  "language_info": {
   "codemirror_mode": {
    "name": "ipython",
    "version": 3
   },
   "file_extension": ".py",
   "mimetype": "text/x-python",
   "name": "python",
   "nbconvert_exporter": "python",
   "pygments_lexer": "ipython3",
   "version": "3.12.7"
  }
 },
 "nbformat": 4,
 "nbformat_minor": 5
}
